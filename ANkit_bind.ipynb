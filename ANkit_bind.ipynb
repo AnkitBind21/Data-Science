{
  "nbformat": 4,
  "nbformat_minor": 0,
  "metadata": {
    "colab": {
      "provenance": []
    },
    "kernelspec": {
      "name": "python3",
      "display_name": "Python 3"
    },
    "language_info": {
      "name": "python"
    }
  },
  "cells": [
    {
      "cell_type": "markdown",
      "source": [],
      "metadata": {
        "id": "oTa4lO23Ualm"
      }
    },
    {
      "cell_type": "markdown",
      "source": [
        "# **HELLO**"
      ],
      "metadata": {
        "id": "w193K2wqUccL"
      }
    },
    {
      "cell_type": "code",
      "source": [
        "print(\"Hello World\");"
      ],
      "metadata": {
        "colab": {
          "base_uri": "https://localhost:8080/"
        },
        "id": "EtC4VMJaUk1H",
        "outputId": "e5518354-8054-4bbe-d2f3-7717b63032cd"
      },
      "execution_count": null,
      "outputs": [
        {
          "output_type": "stream",
          "name": "stdout",
          "text": [
            "Hello World\n"
          ]
        }
      ]
    },
    {
      "cell_type": "code",
      "source": [
        "pip install numpy"
      ],
      "metadata": {
        "colab": {
          "base_uri": "https://localhost:8080/"
        },
        "id": "lMOq7pL8VCq1",
        "outputId": "a87dfe3d-3cc1-404a-ef31-eaeb524cdb0d"
      },
      "execution_count": null,
      "outputs": [
        {
          "output_type": "stream",
          "name": "stdout",
          "text": [
            "Requirement already satisfied: numpy in /usr/local/lib/python3.10/dist-packages (1.25.2)\n"
          ]
        }
      ]
    },
    {
      "cell_type": "markdown",
      "source": [
        "# **IMPORT NUMPY**"
      ],
      "metadata": {
        "id": "aFX00ilHVagc"
      }
    },
    {
      "cell_type": "code",
      "source": [
        "import numpy\n",
        "arr =  numpy.array([1,2,3,4,5])\n",
        "print(arr)"
      ],
      "metadata": {
        "colab": {
          "base_uri": "https://localhost:8080/"
        },
        "id": "L3-hnNq4VICj",
        "outputId": "d08efe09-91bb-4cf2-b21e-385ac528e2a6"
      },
      "execution_count": null,
      "outputs": [
        {
          "output_type": "stream",
          "name": "stdout",
          "text": [
            "[1 2 3 4 5]\n"
          ]
        }
      ]
    },
    {
      "cell_type": "markdown",
      "source": [
        "# **Alias**"
      ],
      "metadata": {
        "id": "HmvWWWIeWHAk"
      }
    },
    {
      "cell_type": "code",
      "source": [
        "import numpy as np\n",
        "arr = np.array([1,2,3,4,5])\n",
        "print(arr)\n"
      ],
      "metadata": {
        "colab": {
          "base_uri": "https://localhost:8080/"
        },
        "id": "8VjTbU9FWKhH",
        "outputId": "0e2bf2df-20a2-470f-81d3-e3b68b8694a6"
      },
      "execution_count": null,
      "outputs": [
        {
          "output_type": "stream",
          "name": "stdout",
          "text": [
            "[1 2 3 4 5]\n"
          ]
        }
      ]
    },
    {
      "cell_type": "markdown",
      "source": [
        "# **Checking version**\n",
        "\n",
        "---\n",
        "\n"
      ],
      "metadata": {
        "id": "cIDMzy8xWbO8"
      }
    },
    {
      "cell_type": "code",
      "source": [
        "import numpy as np\n",
        "print(np.__version__)\n"
      ],
      "metadata": {
        "colab": {
          "base_uri": "https://localhost:8080/"
        },
        "id": "hkN_vYBIWg6d",
        "outputId": "67bbe914-3d4e-41d1-d409-af1b22ed1b71"
      },
      "execution_count": null,
      "outputs": [
        {
          "output_type": "stream",
          "name": "stdout",
          "text": [
            "1.25.2\n"
          ]
        }
      ]
    },
    {
      "cell_type": "markdown",
      "source": [
        "# **Data type of array**"
      ],
      "metadata": {
        "id": "hoffSzhrXA6N"
      }
    },
    {
      "cell_type": "code",
      "source": [
        "import numpy as np\n",
        "arr = np.array([1,2,3,4,5])\n",
        "print(arr)\n",
        "print(type)"
      ],
      "metadata": {
        "colab": {
          "base_uri": "https://localhost:8080/"
        },
        "id": "7k2uXCQrXFpw",
        "outputId": "f738d47b-b2e9-4066-b799-599035a3040c"
      },
      "execution_count": null,
      "outputs": [
        {
          "output_type": "stream",
          "name": "stdout",
          "text": [
            "[1 2 3 4 5]\n",
            "<class 'numpy.ndarray'>\n"
          ]
        }
      ]
    },
    {
      "cell_type": "markdown",
      "source": [],
      "metadata": {
        "id": "x9DC_TSMXg1f"
      }
    },
    {
      "cell_type": "markdown",
      "source": [
        "# **Tupple**"
      ],
      "metadata": {
        "id": "U99XncffXzp9"
      }
    },
    {
      "cell_type": "code",
      "source": [
        "import numpy as np\n",
        "arr = np.array((1,2,3,4,5))\n",
        "print(arr)"
      ],
      "metadata": {
        "colab": {
          "base_uri": "https://localhost:8080/"
        },
        "id": "_mFT7pKpXid9",
        "outputId": "feae6109-e5de-4e29-81ec-52e4d91c5fce"
      },
      "execution_count": null,
      "outputs": [
        {
          "output_type": "stream",
          "name": "stdout",
          "text": [
            "[1 2 3 4 5]\n"
          ]
        }
      ]
    },
    {
      "cell_type": "markdown",
      "source": [
        "# **0-D Arrray**"
      ],
      "metadata": {
        "id": "bwHg-eUDX-8l"
      }
    },
    {
      "cell_type": "code",
      "source": [
        "arr = np.array(1)\n",
        "print(arr)"
      ],
      "metadata": {
        "colab": {
          "base_uri": "https://localhost:8080/"
        },
        "id": "aX8JZogiYVDM",
        "outputId": "5422a87b-1751-481b-a211-028763c2cf92"
      },
      "execution_count": null,
      "outputs": [
        {
          "output_type": "stream",
          "name": "stdout",
          "text": [
            "1\n"
          ]
        }
      ]
    },
    {
      "cell_type": "markdown",
      "source": [
        "# **1-D Array**"
      ],
      "metadata": {
        "id": "8eQx5yfXYdG-"
      }
    },
    {
      "cell_type": "code",
      "source": [
        "arr = np.array([1,2,3,4,5])\n",
        "print(arr)"
      ],
      "metadata": {
        "colab": {
          "base_uri": "https://localhost:8080/"
        },
        "id": "lTAdYz9VYkGF",
        "outputId": "01bad458-66ca-482c-fdc3-1dbafa3b7c03"
      },
      "execution_count": null,
      "outputs": [
        {
          "output_type": "stream",
          "name": "stdout",
          "text": [
            "[1 2 3 4 5]\n"
          ]
        }
      ]
    },
    {
      "cell_type": "markdown",
      "source": [
        "# **2-D Array**"
      ],
      "metadata": {
        "id": "2DBqmytbYzal"
      }
    },
    {
      "cell_type": "code",
      "source": [
        "arr = np.array([[1,2,3],[4,5,6]])\n",
        "print(arr)"
      ],
      "metadata": {
        "colab": {
          "base_uri": "https://localhost:8080/"
        },
        "id": "kTxHSXbyYy_V",
        "outputId": "5e2e8f32-be61-4341-d3f6-f606c8d8c988"
      },
      "execution_count": null,
      "outputs": [
        {
          "output_type": "stream",
          "name": "stdout",
          "text": [
            "[[1 2 3]\n",
            " [4 5 6]]\n"
          ]
        }
      ]
    },
    {
      "cell_type": "markdown",
      "source": [
        "# **3-D Arrays**"
      ],
      "metadata": {
        "id": "ZE4DRMw2ZaYm"
      }
    },
    {
      "cell_type": "code",
      "source": [
        "arr = np.array([[[1,2,3],[4,5,6]],[[7,8,9],[4,7,9]]])\n",
        "print(arr)"
      ],
      "metadata": {
        "colab": {
          "base_uri": "https://localhost:8080/"
        },
        "id": "mZagSu_9Zi33",
        "outputId": "12e3ab44-92b2-4f52-926e-45a6d32ea001"
      },
      "execution_count": null,
      "outputs": [
        {
          "output_type": "stream",
          "name": "stdout",
          "text": [
            "[[[1 2 3]\n",
            "  [4 5 6]]\n",
            "\n",
            " [[7 8 9]\n",
            "  [4 7 9]]]\n"
          ]
        }
      ]
    },
    {
      "cell_type": "markdown",
      "source": [
        "# **Check number of dimensions**"
      ],
      "metadata": {
        "id": "0_AOoisPaTzs"
      }
    },
    {
      "cell_type": "code",
      "source": [
        "arr1 = np.array(1)\n",
        "arr2 = np.array([1,2,3,4,5])\n",
        "arr3 = np.array([[1,2,3],[4,5,6]])\n",
        "arr4 = np.array([[[1,2,3],[4,5,6]],[[7,8,9],[4,7,9]]])\n",
        "\n",
        "print(arr1.ndim)\n",
        "print(arr2.ndim)\n",
        "print(arr3.ndim)\n",
        "print(arr4.ndim)"
      ],
      "metadata": {
        "colab": {
          "base_uri": "https://localhost:8080/"
        },
        "id": "IGL43j4vaTlN",
        "outputId": "91b1fbfb-9748-4959-95ed-5da815bfdb32"
      },
      "execution_count": null,
      "outputs": [
        {
          "output_type": "stream",
          "name": "stdout",
          "text": [
            "0\n",
            "1\n",
            "2\n",
            "3\n"
          ]
        }
      ]
    },
    {
      "cell_type": "markdown",
      "source": [
        "# **Higher Dimensional Arrays**\n",
        "An array can have any number of dimensions. when the array is created, you can define the number of dimensions by usng ndmin argument\n"
      ],
      "metadata": {
        "id": "Ew1v6L7Ya9iX"
      }
    },
    {
      "cell_type": "code",
      "source": [
        "arr = np.array([1,2,3,4], ndmin=5)\n",
        "\n",
        "print(arr)\n",
        "print('Number of dimensions:',arr.ndim)"
      ],
      "metadata": {
        "colab": {
          "base_uri": "https://localhost:8080/"
        },
        "id": "iyVdwy9ebBkW",
        "outputId": "b1eeeaa0-21e5-40a9-9820-c7b5a849aecc"
      },
      "execution_count": null,
      "outputs": [
        {
          "output_type": "stream",
          "name": "stdout",
          "text": [
            "[[[[[1 2 3 4]]]]]\n",
            "Number of dimensions: 5\n"
          ]
        }
      ]
    },
    {
      "cell_type": "markdown",
      "source": [
        "# **Numpy Array Indexing**\n",
        "# Acces array elements **bold text**"
      ],
      "metadata": {
        "id": "TaTE44TPcJTI"
      }
    },
    {
      "cell_type": "code",
      "source": [
        "arr = np.array([1,2,3,4])\n",
        "print(arr[0])"
      ],
      "metadata": {
        "colab": {
          "base_uri": "https://localhost:8080/"
        },
        "id": "Qy0zlfzwcUYv",
        "outputId": "bd3be3b6-cb3b-45e3-c906-f0e0cfa476d3"
      },
      "execution_count": null,
      "outputs": [
        {
          "output_type": "stream",
          "name": "stdout",
          "text": [
            "1\n"
          ]
        }
      ]
    },
    {
      "cell_type": "markdown",
      "source": [
        "# **Adding arrays**"
      ],
      "metadata": {
        "id": "7FehKe8KcjbV"
      }
    },
    {
      "cell_type": "code",
      "source": [
        "arr = np.array([1,2,3,4])\n",
        "print(arr[2]+arr[3])"
      ],
      "metadata": {
        "colab": {
          "base_uri": "https://localhost:8080/"
        },
        "id": "mYg8Ip14ctXZ",
        "outputId": "61f57ea1-ef52-4bc7-d22f-1ef18a117b0d"
      },
      "execution_count": null,
      "outputs": [
        {
          "output_type": "stream",
          "name": "stdout",
          "text": [
            "7\n"
          ]
        }
      ]
    },
    {
      "cell_type": "markdown",
      "source": [
        "# **arr1= 11,12,13,14,15**\n",
        "# **arr3= 16,17,18,19,20**\n",
        "# **1.Print 2nd element of arr1**"
      ],
      "metadata": {
        "id": "xbMuuxondBD-"
      }
    },
    {
      "cell_type": "code",
      "source": [
        "arr1 = np.array([11,12,13,14,15])\n",
        "print(arr1[1])"
      ],
      "metadata": {
        "colab": {
          "base_uri": "https://localhost:8080/"
        },
        "id": "I2CX-YEWc-Dn",
        "outputId": "a3ff6c93-8abb-4183-d328-13fdf97a3e2e"
      },
      "execution_count": null,
      "outputs": [
        {
          "output_type": "stream",
          "name": "stdout",
          "text": [
            "12\n"
          ]
        }
      ]
    },
    {
      "cell_type": "markdown",
      "source": [
        "# **2.Print 19 fromm arr3**"
      ],
      "metadata": {
        "id": "kWmB7KKydrRY"
      }
    },
    {
      "cell_type": "code",
      "source": [
        "arr3 = np.array([16,17,18,19,20])\n",
        "print(arr3[3])"
      ],
      "metadata": {
        "colab": {
          "base_uri": "https://localhost:8080/"
        },
        "id": "3GzjmZc_dzqo",
        "outputId": "2a6a3a49-b201-4ad3-b99e-d0c3b9caa59f"
      },
      "execution_count": null,
      "outputs": [
        {
          "output_type": "stream",
          "name": "stdout",
          "text": [
            "19\n"
          ]
        }
      ]
    },
    {
      "cell_type": "markdown",
      "source": [
        "# **3.Add 3rd element of arr1 and 5th elemwent of arr3**"
      ],
      "metadata": {
        "id": "VkGHpQG3d8NY"
      }
    },
    {
      "cell_type": "code",
      "source": [
        "arr1 = np.array([11,12,13,14,15])\n",
        "arr3 = np.array([16,17,18,19,20])\n",
        "\n",
        "print(arr1[2]+arr3[4])"
      ],
      "metadata": {
        "colab": {
          "base_uri": "https://localhost:8080/"
        },
        "id": "01UF9iDqeEzX",
        "outputId": "255158e4-5847-4c40-f66c-aee3860703fc"
      },
      "execution_count": null,
      "outputs": [
        {
          "output_type": "stream",
          "name": "stdout",
          "text": [
            "33\n"
          ]
        }
      ]
    },
    {
      "cell_type": "markdown",
      "source": [
        "# **4.Find the total of arr1 and arr3.**"
      ],
      "metadata": {
        "id": "iUwNPH91eUmA"
      }
    },
    {
      "cell_type": "code",
      "source": [
        "arr1 = np.array([11,12,13,14,15])\n",
        "arr3 = np.array([16,17,18,19,20])\n",
        "\n",
        "print(arr1+arr3)"
      ],
      "metadata": {
        "colab": {
          "base_uri": "https://localhost:8080/"
        },
        "id": "onssTv5Leaho",
        "outputId": "a514cf79-6cb4-439c-e4ff-48e44e949a8c"
      },
      "execution_count": null,
      "outputs": [
        {
          "output_type": "stream",
          "name": "stdout",
          "text": [
            "[27 29 31 33 35]\n"
          ]
        }
      ]
    },
    {
      "cell_type": "markdown",
      "source": [
        "# **Print the 2nd element on 1st row in 2D array**"
      ],
      "metadata": {
        "id": "yOVLOfkifxap"
      }
    },
    {
      "cell_type": "code",
      "source": [
        "arr = np.ararr = np.array([[1,2,3,4],[5,6,7,8]])\n",
        "print('2nd element on 1st row:',arr[0,1] )"
      ],
      "metadata": {
        "colab": {
          "base_uri": "https://localhost:8080/"
        },
        "id": "vWas1nMPf8RL",
        "outputId": "e0f4f7b5-9c8d-4755-be3d-01110a8a8852"
      },
      "execution_count": null,
      "outputs": [
        {
          "output_type": "stream",
          "name": "stdout",
          "text": [
            "2nd element on 1st row: 2\n"
          ]
        }
      ]
    },
    {
      "cell_type": "markdown",
      "source": [
        "# **Print the 2nd element on 1st row in 3D array**"
      ],
      "metadata": {
        "id": "6QW0wewkg_Oa"
      }
    },
    {
      "cell_type": "code",
      "source": [
        "arr = np.array([[[1,2,3],[4,5,6]],[[7,8,9],[4,7,9]]])\n",
        "print(arr[0,1,2])"
      ],
      "metadata": {
        "colab": {
          "base_uri": "https://localhost:8080/"
        },
        "id": "gnP0VN9ihFbx",
        "outputId": "7181f4cf-0998-4305-cfc7-c68f3e0b773e"
      },
      "execution_count": null,
      "outputs": [
        {
          "output_type": "stream",
          "name": "stdout",
          "text": [
            "6\n"
          ]
        }
      ]
    },
    {
      "cell_type": "markdown",
      "source": [
        "# **Negative Indexing**"
      ],
      "metadata": {
        "id": "AEnHkphkhdAJ"
      }
    },
    {
      "cell_type": "code",
      "source": [
        "arr = np.ararr = np.array([[1,2,3,4],[5,6,7,8]])\n",
        "print('4th element on 2nd row:',arr[1,-1] )"
      ],
      "metadata": {
        "colab": {
          "base_uri": "https://localhost:8080/"
        },
        "id": "7PFlalBWhhDx",
        "outputId": "e3f30773-dda1-4a59-9362-6a2dd2560aac"
      },
      "execution_count": null,
      "outputs": [
        {
          "output_type": "stream",
          "name": "stdout",
          "text": [
            "2nd element on 1st row: 8\n"
          ]
        }
      ]
    },
    {
      "cell_type": "markdown",
      "source": [
        "# **Slicing arrays**"
      ],
      "metadata": {
        "id": "KPfzmdqpi4BD"
      }
    },
    {
      "cell_type": "code",
      "source": [
        "arr=np.array([1,2,3,4,5,6,7])\n",
        "print(arr[1:4])"
      ],
      "metadata": {
        "colab": {
          "base_uri": "https://localhost:8080/"
        },
        "id": "nrHWaj0gi3q6",
        "outputId": "210964b4-f3b0-4525-8199-fca6c68d90b5"
      },
      "execution_count": null,
      "outputs": [
        {
          "output_type": "stream",
          "name": "stdout",
          "text": [
            "[2 3 4]\n"
          ]
        }
      ]
    },
    {
      "cell_type": "markdown",
      "source": [
        "# **Print all the element after 2**"
      ],
      "metadata": {
        "id": "mUXjfFWajf7t"
      }
    },
    {
      "cell_type": "code",
      "source": [
        "arr=np.array([1,2,3,4,5,6,7])\n",
        "print(arr[2:])\n"
      ],
      "metadata": {
        "colab": {
          "base_uri": "https://localhost:8080/"
        },
        "id": "ieolnh9PjlRA",
        "outputId": "f49a2ca8-ff86-49f4-e9a1-34d1229ae7e4"
      },
      "execution_count": null,
      "outputs": [
        {
          "output_type": "stream",
          "name": "stdout",
          "text": [
            "[3 4 5 6 7]\n",
            "[2 4 6]\n"
          ]
        }
      ]
    },
    {
      "cell_type": "markdown",
      "source": [
        "# **Print each and every 2nd elemnet of the array**"
      ],
      "metadata": {
        "id": "xvtJuDJdk5gz"
      }
    },
    {
      "cell_type": "code",
      "source": [
        "arr=np.array([1,2,3,4,5,6,7])\n",
        "print(arr[1:6:2])"
      ],
      "metadata": {
        "colab": {
          "base_uri": "https://localhost:8080/"
        },
        "id": "ky2GXTV_lBKj",
        "outputId": "b1b2f2e0-1a57-4479-f2e8-c108405316fe"
      },
      "execution_count": null,
      "outputs": [
        {
          "output_type": "stream",
          "name": "stdout",
          "text": [
            "[2 4 6]\n"
          ]
        }
      ]
    },
    {
      "cell_type": "markdown",
      "source": [
        "# **From the 2nd element slice elements from index 1 to index 4(not included)**"
      ],
      "metadata": {
        "id": "lxeA86bclV5N"
      }
    },
    {
      "cell_type": "code",
      "source": [
        "arr = np.array([[1,2,3,4,5],[6,7,8,9,10]])\n",
        "print(arr[1,1:4])\n",
        "print(arr[0:2, 3])"
      ],
      "metadata": {
        "colab": {
          "base_uri": "https://localhost:8080/"
        },
        "id": "K7lI3oVolhHd",
        "outputId": "0a61d70c-4910-480a-c21f-7e575214b404"
      },
      "execution_count": null,
      "outputs": [
        {
          "output_type": "stream",
          "name": "stdout",
          "text": [
            "[7 8 9]\n",
            "[4]\n"
          ]
        }
      ]
    },
    {
      "cell_type": "markdown",
      "source": [
        "# **from both elements, slic index 1 to index 4 (not included) this will rerturn 2-D aray:**\n"
      ],
      "metadata": {
        "id": "rKc2T3gtmkHz"
      }
    },
    {
      "cell_type": "code",
      "source": [
        "arr = np.array([[1,2,3,4,5],[6,7,8,9,10]])\n",
        "print(arr[0:2, 1:4])"
      ],
      "metadata": {
        "colab": {
          "base_uri": "https://localhost:8080/"
        },
        "id": "P6WAKk7Vmwtr",
        "outputId": "112928f2-78ae-4b74-f061-9ee89f2d2fe9"
      },
      "execution_count": null,
      "outputs": [
        {
          "output_type": "stream",
          "name": "stdout",
          "text": [
            "[[2 3 4]\n",
            " [7 8 9]]\n"
          ]
        }
      ]
    },
    {
      "cell_type": "markdown",
      "source": [
        "# **Every other item from the entire array**"
      ],
      "metadata": {
        "id": "QIEs-722muM9"
      }
    },
    {
      "cell_type": "code",
      "source": [
        "arr = np.array([10,15,20,25,40,35,50])\n",
        "print(arr[::2])"
      ],
      "metadata": {
        "colab": {
          "base_uri": "https://localhost:8080/"
        },
        "id": "LhvJ2g9ql99T",
        "outputId": "440b6898-6f72-42d4-a212-6ad2995c38b0"
      },
      "execution_count": null,
      "outputs": [
        {
          "output_type": "stream",
          "name": "stdout",
          "text": [
            "[10 20 40 50]\n"
          ]
        }
      ]
    },
    {
      "cell_type": "code",
      "source": [
        "arr = np.array([10,15,20,25,40,35,50])\n",
        "print(arr[::3])"
      ],
      "metadata": {
        "id": "og9H-HuapL3d"
      },
      "execution_count": null,
      "outputs": []
    }
  ]
}